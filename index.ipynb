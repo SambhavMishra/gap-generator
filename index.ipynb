{
 "cells": [
  {
   "cell_type": "code",
   "execution_count": 1,
   "metadata": {},
   "outputs": [
    {
     "ename": "ModuleNotFoundError",
     "evalue": "No module named 'xhtml2pdf'",
     "output_type": "error",
     "traceback": [
      "\u001b[1;31m---------------------------------------------------------------------------\u001b[0m",
      "\u001b[1;31mModuleNotFoundError\u001b[0m                       Traceback (most recent call last)",
      "\u001b[1;32mc:\\Users\\S A M B H A V\\Desktop\\creds\\Internships\\Pragament Tech Solutions\\index.ipynb Cell 1\u001b[0m line \u001b[0;36m<cell line: 1>\u001b[1;34m()\u001b[0m\n\u001b[1;32m----> <a href='vscode-notebook-cell:/c%3A/Users/S%20A%20M%20B%20H%20A%20V/Desktop/creds/Internships/Pragament%20Tech%20Solutions/index.ipynb#W0sZmlsZQ%3D%3D?line=0'>1</a>\u001b[0m \u001b[39mfrom\u001b[39;00m \u001b[39mxhtml2pdf\u001b[39;00m \u001b[39mimport\u001b[39;00m pisa\n\u001b[0;32m      <a href='vscode-notebook-cell:/c%3A/Users/S%20A%20M%20B%20H%20A%20V/Desktop/creds/Internships/Pragament%20Tech%20Solutions/index.ipynb#W0sZmlsZQ%3D%3D?line=2'>3</a>\u001b[0m \u001b[39m# HTML content to convert to PDF\u001b[39;00m\n\u001b[0;32m      <a href='vscode-notebook-cell:/c%3A/Users/S%20A%20M%20B%20H%20A%20V/Desktop/creds/Internships/Pragament%20Tech%20Solutions/index.ipynb#W0sZmlsZQ%3D%3D?line=3'>4</a>\u001b[0m html_content \u001b[39m=\u001b[39m \u001b[39m\"\"\"\u001b[39m\n\u001b[0;32m      <a href='vscode-notebook-cell:/c%3A/Users/S%20A%20M%20B%20H%20A%20V/Desktop/creds/Internships/Pragament%20Tech%20Solutions/index.ipynb#W0sZmlsZQ%3D%3D?line=4'>5</a>\u001b[0m \u001b[39m<html>\u001b[39m\n\u001b[0;32m      <a href='vscode-notebook-cell:/c%3A/Users/S%20A%20M%20B%20H%20A%20V/Desktop/creds/Internships/Pragament%20Tech%20Solutions/index.ipynb#W0sZmlsZQ%3D%3D?line=5'>6</a>\u001b[0m \u001b[39m<body>\u001b[39m\n\u001b[1;32m   (...)\u001b[0m\n\u001b[0;32m     <a href='vscode-notebook-cell:/c%3A/Users/S%20A%20M%20B%20H%20A%20V/Desktop/creds/Internships/Pragament%20Tech%20Solutions/index.ipynb#W0sZmlsZQ%3D%3D?line=9'>10</a>\u001b[0m \u001b[39m</html>\u001b[39m\n\u001b[0;32m     <a href='vscode-notebook-cell:/c%3A/Users/S%20A%20M%20B%20H%20A%20V/Desktop/creds/Internships/Pragament%20Tech%20Solutions/index.ipynb#W0sZmlsZQ%3D%3D?line=10'>11</a>\u001b[0m \u001b[39m\"\"\"\u001b[39m\n",
      "\u001b[1;31mModuleNotFoundError\u001b[0m: No module named 'xhtml2pdf'"
     ]
    }
   ],
   "source": [
    "from xhtml2pdf import pisa\n",
    "\n",
    "# HTML content to convert to PDF\n",
    "html_content = \"\"\"\n",
    "<html>\n",
    "<body>\n",
    "<h1>Hello, PDF!</h1>\n",
    "<p>This is an example of converting HTML to PDF using xhtml2pdf.</p>\n",
    "</body>\n",
    "</html>\n",
    "\"\"\"\n",
    "\n",
    "# Create a PDF file\n",
    "pdf_file = open(\"output.pdf\", \"wb\")\n",
    "\n",
    "# Convert HTML to PDF\n",
    "pisa.CreatePDF(html_content, dest=pdf_file)\n",
    "\n",
    "# Close the PDF file\n",
    "pdf_file.close()\n"
   ]
  },
  {
   "cell_type": "code",
   "execution_count": 2,
   "metadata": {},
   "outputs": [
    {
     "name": "stdout",
     "output_type": "stream",
     "text": [
      "Defaulting to user installation because normal site-packages is not writeable\n",
      "Collecting xhtml2pdf\n",
      "  Using cached xhtml2pdf-0.2.11.tar.gz (108 kB)\n",
      "  Preparing metadata (setup.py): started\n",
      "  Preparing metadata (setup.py): finished with status 'done'\n",
      "Collecting arabic-reshaper>=3.0.0\n",
      "  Using cached arabic_reshaper-3.0.0-py3-none-any.whl (20 kB)\n",
      "Requirement already satisfied: html5lib>=1.0.1 in c:\\users\\s a m b h a v\\appdata\\roaming\\python\\python310\\site-packages (from xhtml2pdf) (1.1)\n",
      "Requirement already satisfied: Pillow>=8.1.1 in c:\\users\\s a m b h a v\\appdata\\roaming\\python\\python310\\site-packages (from xhtml2pdf) (9.2.0)\n",
      "Collecting pyHanko>=0.12.1\n",
      "  Using cached pyHanko-0.20.0-py3-none-any.whl (407 kB)\n",
      "Collecting pyhanko-certvalidator>=0.19.5\n",
      "  Using cached pyhanko_certvalidator-0.24.0-py3-none-any.whl (106 kB)\n",
      "Collecting pypdf>=3.1.0\n",
      "  Using cached pypdf-3.16.0-py3-none-any.whl (276 kB)\n",
      "Requirement already satisfied: python-bidi>=0.4.2 in c:\\users\\s a m b h a v\\appdata\\roaming\\python\\python310\\site-packages (from xhtml2pdf) (0.4.2)\n",
      "Collecting reportlab<4,>=3.5.53\n",
      "  Using cached reportlab-3.6.13-cp310-cp310-win_amd64.whl (2.3 MB)\n",
      "Collecting svglib>=1.2.1\n",
      "  Using cached svglib-1.5.1.tar.gz (913 kB)\n",
      "  Preparing metadata (setup.py): started\n",
      "  Preparing metadata (setup.py): finished with status 'done'\n",
      "Requirement already satisfied: webencodings in c:\\users\\s a m b h a v\\appdata\\roaming\\python\\python310\\site-packages (from html5lib>=1.0.1->xhtml2pdf) (0.5.1)\n",
      "Requirement already satisfied: six>=1.9 in c:\\users\\s a m b h a v\\appdata\\roaming\\python\\python310\\site-packages (from html5lib>=1.0.1->xhtml2pdf) (1.16.0)\n",
      "Requirement already satisfied: cryptography>=3.3.1 in c:\\users\\s a m b h a v\\appdata\\roaming\\python\\python310\\site-packages (from pyHanko>=0.12.1->xhtml2pdf) (40.0.2)\n",
      "Collecting pyhanko-certvalidator>=0.19.5\n",
      "  Using cached pyhanko_certvalidator-0.23.0-py3-none-any.whl (106 kB)\n",
      "Requirement already satisfied: requests>=2.24.0 in c:\\users\\s a m b h a v\\appdata\\roaming\\python\\python310\\site-packages (from pyHanko>=0.12.1->xhtml2pdf) (2.28.2)\n",
      "Collecting asn1crypto>=1.5.1\n",
      "  Using cached asn1crypto-1.5.1-py2.py3-none-any.whl (105 kB)\n",
      "Collecting qrcode>=6.1\n",
      "  Using cached qrcode-7.4.2-py3-none-any.whl (46 kB)\n",
      "Requirement already satisfied: pyyaml>=5.3.1 in c:\\users\\s a m b h a v\\appdata\\roaming\\python\\python310\\site-packages (from pyHanko>=0.12.1->xhtml2pdf) (6.0)\n",
      "Collecting tzlocal>=4.3\n",
      "  Downloading tzlocal-5.0.1-py3-none-any.whl (20 kB)\n",
      "Requirement already satisfied: click>=7.1.2 in c:\\users\\s a m b h a v\\appdata\\roaming\\python\\python310\\site-packages (from pyHanko>=0.12.1->xhtml2pdf) (8.1.3)\n",
      "Collecting uritools>=3.0.1\n",
      "  Using cached uritools-4.0.2-py3-none-any.whl (10 kB)\n",
      "Collecting oscrypto>=1.1.0\n",
      "  Using cached oscrypto-1.3.0-py2.py3-none-any.whl (194 kB)\n",
      "Requirement already satisfied: lxml in c:\\users\\s a m b h a v\\appdata\\roaming\\python\\python310\\site-packages (from svglib>=1.2.1->xhtml2pdf) (4.9.1)\n",
      "Requirement already satisfied: tinycss2>=0.6.0 in c:\\users\\s a m b h a v\\appdata\\roaming\\python\\python310\\site-packages (from svglib>=1.2.1->xhtml2pdf) (1.1.1)\n",
      "Collecting cssselect2>=0.2.0\n",
      "  Using cached cssselect2-0.7.0-py3-none-any.whl (15 kB)\n",
      "Requirement already satisfied: colorama in c:\\users\\s a m b h a v\\appdata\\roaming\\python\\python310\\site-packages (from click>=7.1.2->pyHanko>=0.12.1->xhtml2pdf) (0.4.6)\n",
      "Requirement already satisfied: cffi>=1.12 in c:\\users\\s a m b h a v\\appdata\\roaming\\python\\python310\\site-packages (from cryptography>=3.3.1->pyHanko>=0.12.1->xhtml2pdf) (1.15.1)\n",
      "Collecting pypng\n",
      "  Using cached pypng-0.20220715.0-py3-none-any.whl (58 kB)\n",
      "Requirement already satisfied: typing-extensions in c:\\users\\s a m b h a v\\appdata\\roaming\\python\\python310\\site-packages (from qrcode>=6.1->pyHanko>=0.12.1->xhtml2pdf) (4.3.0)\n",
      "Requirement already satisfied: charset-normalizer<4,>=2 in c:\\users\\s a m b h a v\\appdata\\roaming\\python\\python310\\site-packages (from requests>=2.24.0->pyHanko>=0.12.1->xhtml2pdf) (2.1.0)\n",
      "Requirement already satisfied: certifi>=2017.4.17 in c:\\users\\s a m b h a v\\appdata\\roaming\\python\\python310\\site-packages (from requests>=2.24.0->pyHanko>=0.12.1->xhtml2pdf) (2022.12.7)\n",
      "Requirement already satisfied: idna<4,>=2.5 in c:\\users\\s a m b h a v\\appdata\\roaming\\python\\python310\\site-packages (from requests>=2.24.0->pyHanko>=0.12.1->xhtml2pdf) (2.10)\n",
      "Requirement already satisfied: urllib3<1.27,>=1.21.1 in c:\\users\\s a m b h a v\\appdata\\roaming\\python\\python310\\site-packages (from requests>=2.24.0->pyHanko>=0.12.1->xhtml2pdf) (1.26.9)\n",
      "Requirement already satisfied: tzdata in c:\\users\\s a m b h a v\\appdata\\roaming\\python\\python310\\site-packages (from tzlocal>=4.3->pyHanko>=0.12.1->xhtml2pdf) (2022.6)\n",
      "Requirement already satisfied: pycparser in c:\\users\\s a m b h a v\\appdata\\roaming\\python\\python310\\site-packages (from cffi>=1.12->cryptography>=3.3.1->pyHanko>=0.12.1->xhtml2pdf) (2.21)\n",
      "Building wheels for collected packages: xhtml2pdf, svglib\n",
      "  Building wheel for xhtml2pdf (setup.py): started\n",
      "  Building wheel for xhtml2pdf (setup.py): finished with status 'done'\n",
      "  Created wheel for xhtml2pdf: filename=xhtml2pdf-0.2.11-py3-none-any.whl size=263059 sha256=9a9f81c7cc1b9a56b2d70356d1a27465849e98360c68dcce8b7e108cb9d67a95\n",
      "  Stored in directory: c:\\users\\s a m b h a v\\appdata\\local\\pip\\cache\\wheels\\72\\77\\fb\\e473c11c4e30a7680bf5b1b7f1d07ef04932184a2f39118e8d\n",
      "  Building wheel for svglib (setup.py): started\n",
      "  Building wheel for svglib (setup.py): finished with status 'done'\n",
      "  Created wheel for svglib: filename=svglib-1.5.1-py3-none-any.whl size=30975 sha256=d7daa5d8b334fd5ae41dc53b2adb2d4611df5658d4df28e9c43ce194ce9d654b\n",
      "  Stored in directory: c:\\users\\s a m b h a v\\appdata\\local\\pip\\cache\\wheels\\56\\9f\\90\\f37f4b9dbf82987a24ae14f15586e96715cb669a4710b3b85d\n",
      "Successfully built xhtml2pdf svglib\n",
      "Installing collected packages: pypng, asn1crypto, arabic-reshaper, uritools, tzlocal, reportlab, qrcode, pypdf, oscrypto, cssselect2, svglib, pyhanko-certvalidator, pyHanko, xhtml2pdf\n",
      "  Attempting uninstall: tzlocal\n",
      "    Found existing installation: tzlocal 4.2\n",
      "    Uninstalling tzlocal-4.2:\n",
      "      Successfully uninstalled tzlocal-4.2\n",
      "Successfully installed arabic-reshaper-3.0.0 asn1crypto-1.5.1 cssselect2-0.7.0 oscrypto-1.3.0 pyHanko-0.20.0 pyhanko-certvalidator-0.23.0 pypdf-3.16.0 pypng-0.20220715.0 qrcode-7.4.2 reportlab-3.6.13 svglib-1.5.1 tzlocal-5.0.1 uritools-4.0.2 xhtml2pdf-0.2.11\n"
     ]
    },
    {
     "name": "stderr",
     "output_type": "stream",
     "text": [
      "ERROR: pip's dependency resolver does not currently take into account all the packages that are installed. This behaviour is the source of the following dependency conflicts.\n",
      "streamlit 1.15.1 requires protobuf<4,>=3.12, but you have protobuf 4.23.3 which is incompatible.\n",
      "\n",
      "[notice] A new release of pip is available: 23.0 -> 23.2.1\n",
      "[notice] To update, run: python.exe -m pip install --upgrade pip\n"
     ]
    }
   ],
   "source": [
    "!pip install xhtml2pdf"
   ]
  },
  {
   "cell_type": "code",
   "execution_count": null,
   "metadata": {},
   "outputs": [],
   "source": []
  }
 ],
 "metadata": {
  "kernelspec": {
   "display_name": "Python 3",
   "language": "python",
   "name": "python3"
  },
  "language_info": {
   "codemirror_mode": {
    "name": "ipython",
    "version": 3
   },
   "file_extension": ".py",
   "mimetype": "text/x-python",
   "name": "python",
   "nbconvert_exporter": "python",
   "pygments_lexer": "ipython3",
   "version": "3.10.7"
  },
  "orig_nbformat": 4
 },
 "nbformat": 4,
 "nbformat_minor": 2
}
